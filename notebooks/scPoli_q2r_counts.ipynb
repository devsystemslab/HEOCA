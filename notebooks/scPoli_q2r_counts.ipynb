{
 "cells": [
  {
   "cell_type": "code",
   "execution_count": null,
   "metadata": {},
   "outputs": [],
   "source": [
    "import os\n",
    "import numpy as np\n",
    "import pandas as pd\n",
    "import scanpy as sc\n",
    "import anndata\n",
    "import scarches\n",
    "\n",
    "from anndata import AnnData\n",
    "from scarches.models.scpoli import scPoli\n",
    "\n",
    "import umap"
   ]
  },
  {
   "cell_type": "code",
   "execution_count": null,
   "metadata": {},
   "outputs": [],
   "source": [
    "import torch\n",
    "print(torch.cuda.is_available())"
   ]
  },
  {
   "cell_type": "markdown",
   "metadata": {},
   "source": [
    "## Specify working directory"
   ]
  },
  {
   "cell_type": "code",
   "execution_count": null,
   "metadata": {},
   "outputs": [],
   "source": [
    "WD = \"/dss/dssfs02/lwp-dss-0001/pn36po/pn36po-dss-0001/di93vel/atlas_building\"\n",
    "VERSION = 46"
   ]
  },
  {
   "cell_type": "code",
   "execution_count": null,
   "metadata": {},
   "outputs": [],
   "source": [
    "out_folder = f\"{WD}/q2r_models/\"\n",
    "model_path = f\"{out_folder}/model_v{VERSION}\""
   ]
  },
  {
   "cell_type": "code",
   "execution_count": null,
   "metadata": {},
   "outputs": [],
   "source": [
    "# reference column containing the cell type labels of interest\n",
    "level = 'level_3'"
   ]
  },
  {
   "cell_type": "markdown",
   "metadata": {},
   "source": [
    "## Functions"
   ]
  },
  {
   "cell_type": "code",
   "execution_count": null,
   "metadata": {},
   "outputs": [],
   "source": [
    "def read_samples(project_dir, sample_sheet, annot_dir):\n",
    "    adata_list=[]\n",
    "    for sample in sample_sheet.sample_id:\n",
    "        sample_file=f\"{project_dir}/h5ad_pyraw/cp_h5ad/{sample}_pyraw.h5ad\"\n",
    "        adata = sc.read_h5ad(sample_file)\n",
    "        adata.obs['sample_id'] = sample\n",
    "        origin = sample_sheet[sample_sheet['sample_id'] == sample]['derive'].values[0]\n",
    "        adata.obs['derive'] = origin\n",
    "        adata.var = adata.var.drop(adata.var.columns, axis=1)\n",
    "        meta_file = f\"{annot_dir}/{sample}_annotation.txt\"\n",
    "        if os.path.exists(meta_file) and os.path.getsize(meta_file)>1:\n",
    "            meta_data = pd.read_csv(meta_file, sep=\"\\t\", index_col=0)\n",
    "            adata.obs = pd.merge(adata.obs, meta_data, left_index=True, right_index=True)\n",
    "        else:\n",
    "            adata.obs['level_1'] = 'epithelial'\n",
    "            adata.obs['level_2'] = 'na'\n",
    "\n",
    "        adata_list.append(adata)\n",
    "    adata_concat = anndata.concat(adata_list, join='outer', fill_value=0)\n",
    "    adata_concat.obs['publication'] = ['_'.join(i.split('_')[:3]) for i in adata_concat.obs.sample_id.tolist()]\n",
    "\n",
    "    adata_concat.obs.index.name = \"cells\"\n",
    "\n",
    "    return adata_concat\n",
    "\n",
    "def get_counts(adata):\n",
    "    t = adata.X.toarray()\n",
    "    data_df = pd.DataFrame(data=t, index=adata.obs_names, columns=adata.var_names)\n",
    "    data_df = np.expm1(data_df)\n",
    "    counts_df = data_df.T.mul(adata.obs.n_counts).div(10000)\n",
    "    counts_df = counts_df.T.iloc[:,:]\n",
    "    counts_df = counts_df.round(0).astype(np.float32)\n",
    "    return counts_df\n",
    "    \n",
    "def clear_genes(project_dir, adata):\n",
    "    # clear_genes = pd.read_csv(\"/home/xuq44/refgenomes/hg38/hg_genes_clear_nocc.txt\", header=None)[0].tolist()\n",
    "    clear_genes = pd.read_csv(os.path.join(project_dir, \"hg_genes_clear.txt\"), header=None)[0].tolist()\n",
    "    sub_clear_genes = [i for i in clear_genes if i in adata.var.index.tolist()]\n",
    "    adata = adata[:, sub_clear_genes]\n",
    "    \n",
    "    return adata\n",
    "\n",
    "def pre_inti0(adata):\n",
    "    adata.layers['counts']=adata.X\n",
    "    sc.pp.normalize_total(adata, target_sum=1e4)\n",
    "    sc.pp.log1p(adata)\n",
    "    adata.raw = adata\n",
    "\n",
    "    return adata\n",
    "\n",
    "def get_kwargs():\n",
    "    early_stopping_kwargs = {\n",
    "        \"early_stopping_metric\": \"val_prototype_loss\",\n",
    "        \"mode\": \"min\",\n",
    "        \"threshold\": 0,\n",
    "        \"patience\": 20,\n",
    "        \"reduce_lr\": True,\n",
    "        \"lr_patience\": 13,\n",
    "        \"lr_factor\": 0.1,\n",
    "    }\n",
    "    return early_stopping_kwargs\n",
    "\n",
    "def train_scpoli(adata):\n",
    "    early_stopping_kwargs = get_kwargs()\n",
    "\n",
    "    scpoli_model = scPoli(\n",
    "        adata=adata,\n",
    "        unknown_ct_names=['na'],\n",
    "        condition_keys=['sample_id'],\n",
    "        cell_type_keys=level,\n",
    "        embedding_dims=10,  # default\n",
    "        latent_dim=10,  # default\n",
    "        hidden_layer_sizes=[512, 512],\n",
    "        recon_loss='nb',\n",
    "    )\n",
    "\n",
    "    scpoli_model.train(\n",
    "        n_epochs=50,\n",
    "        pretraining_epochs=4,\n",
    "        early_stopping_kwargs=early_stopping_kwargs,\n",
    "        eta=10,\n",
    "        alpha_epoch_anneal=100,\n",
    "    )\n",
    "\n",
    "    return scpoli_model\n",
    "\n",
    "def map_query(adata, model):\n",
    "    early_stopping_kwargs = get_kwargs()\n",
    "\n",
    "    scpoli_query = scPoli.load_query_data(\n",
    "        adata=adata,\n",
    "        reference_model=model,\n",
    "        labeled_indices=[],\n",
    "    )\n",
    "\n",
    "    scpoli_query.train(\n",
    "        n_epochs=200,\n",
    "        pretraining_epochs=80,\n",
    "        early_stopping_kwargs=early_stopping_kwargs,\n",
    "        eta=10,\n",
    "        alpha_epoch_anneal=100,\n",
    "    )\n",
    "\n",
    "    return scpoli_query\n",
    "\n",
    "def umap_transform(adata_ref, adata_que, cell_type_col):\n",
    "    model = umap.UMAP(n_neighbors=5, random_state=42, min_dist=0.5).fit(adata_ref.X)\n",
    "    adata_ref.obsm['X_umap'] = model.transform(adata_ref.X)\n",
    "    adata_que.obsm['X_umap'] = model.transform(adata_que.X)\n",
    "    \n",
    "    adata_ref.obs['query'] = 0\n",
    "    adata_que.obs['query'] = 1\n",
    "    \n",
    "    adata_ref.obs['cell_type_pred'] = np.nan\n",
    "    adata_ref.obs['cell_type_uncert'] = np.nan\n",
    "    adata_que.obs['maturity'] = np.nan\n",
    "    \n",
    "    # harmonized annotation: reference labels transferred to query cells\n",
    "    adata_ref.obs['cell_type'] = adata_ref.obs[level].copy()\n",
    "    adata_que.obs['cell_type'] = adata_que.obs['cell_type_pred'].copy()\n",
    "    \n",
    "    # original reference cell annotation\n",
    "    adata_ref.obs['cell_type_ref'] = adata_ref.obs[level].copy()\n",
    "    adata_que.obs['cell_type_ref'] = np.nan\n",
    "    \n",
    "    adata_all = anndata.concat([adata_ref, adata_que])\n",
    "\n",
    "    return adata_all\n"
   ]
  },
  {
   "cell_type": "markdown",
   "metadata": {},
   "source": [
    "## Load samples"
   ]
  },
  {
   "cell_type": "code",
   "execution_count": null,
   "metadata": {},
   "outputs": [],
   "source": [
    "project_dir = os.path.join(WD, 'data')\n",
    "annot_dir = os.path.join(project_dir, 'sample_annot6')\n",
    "sample_sheet = pd.read_csv(os.path.join(project_dir, 'all_samples_sheets.txt'), sep='\\t')\n",
    "sample_sheet = sample_sheet[sample_sheet.tissue=='lung']"
   ]
  },
  {
   "cell_type": "markdown",
   "metadata": {},
   "source": [
    "### Load reference data"
   ]
  },
  {
   "cell_type": "code",
   "execution_count": null,
   "metadata": {},
   "outputs": [],
   "source": [
    "# FETAL\n",
    "fetal = sc.read(os.path.join(project_dir, 'reference/Assembled10DomainsEpithelialSimplifiedAnnotation.h5ad'))\n",
    "fetal = clear_genes(project_dir, fetal)\n",
    "fetal.obs['level_1'] = 'epithelial'\n",
    "fetal.obs['level_2'] = fetal.obs['simplified_celltype'].copy()\n",
    "fetal.obs['level_3'] = fetal.obs['new_celltype'].copy()\n",
    "fetal.obs['sample_id'] = fetal.obs['donor'].copy()\n",
    "fetal.obs['maturity'] = 'fetal'"
   ]
  },
  {
   "cell_type": "code",
   "execution_count": null,
   "metadata": {},
   "outputs": [],
   "source": [
    "fetal.obs['level_2']"
   ]
  },
  {
   "cell_type": "code",
   "execution_count": null,
   "metadata": {},
   "outputs": [],
   "source": [
    "fetal.obs['level_3']"
   ]
  },
  {
   "cell_type": "code",
   "execution_count": null,
   "metadata": {},
   "outputs": [],
   "source": [
    "# revert the normalized, transformed data back to counts\n",
    "fetal_counts = get_counts(fetal)\n",
    "fetal.X = fetal_counts.values.copy()"
   ]
  },
  {
   "cell_type": "code",
   "execution_count": null,
   "metadata": {},
   "outputs": [],
   "source": [
    "print(np.max(fetal.X))\n",
    "print(np.min(fetal.X))\n",
    "print(type(fetal.X[0,0]))"
   ]
  },
  {
   "cell_type": "code",
   "execution_count": null,
   "metadata": {},
   "outputs": [],
   "source": [
    "# MATURE\n",
    "mature = sc.read(os.path.join(project_dir, 'reference/Barbry_Leroy_2020_epithelial_annot_simplified.h5ad'))\n",
    "mature = clear_genes(project_dir, mature)\n",
    "mature.obs['level_1'] = 'epithelial'\n",
    "mature.obs['level_2'] = mature.obs['simplified_celltype'].copy()\n",
    "mature.obs['level_3'] = mature.obs['predicted_labels'].copy()\n",
    "mature.obs['sample_id'] = mature.obs['sample'].copy()\n",
    "mature.obs['maturity'] = 'mature'\n",
    "mature.uns['log1p'] = {'base': None}"
   ]
  },
  {
   "cell_type": "code",
   "execution_count": null,
   "metadata": {},
   "outputs": [],
   "source": [
    "mature.obs['level_2']"
   ]
  },
  {
   "cell_type": "code",
   "execution_count": null,
   "metadata": {},
   "outputs": [],
   "source": [
    "mature.obs['level_3']"
   ]
  },
  {
   "cell_type": "code",
   "execution_count": null,
   "metadata": {},
   "outputs": [],
   "source": [
    "mature.X = mature.layers['counts'].copy()"
   ]
  },
  {
   "cell_type": "code",
   "execution_count": null,
   "metadata": {},
   "outputs": [],
   "source": [
    "print(np.max(mature.X))\n",
    "print(np.min(mature.X))\n",
    "print(type(mature.X[0,0]))"
   ]
  },
  {
   "cell_type": "code",
   "execution_count": null,
   "metadata": {},
   "outputs": [],
   "source": [
    "reference = anndata.concat([fetal, mature])"
   ]
  },
  {
   "cell_type": "code",
   "execution_count": null,
   "metadata": {},
   "outputs": [],
   "source": [
    "reference.obs['derive'] = np.nan\n",
    "reference.obs"
   ]
  },
  {
   "cell_type": "code",
   "execution_count": null,
   "metadata": {},
   "outputs": [],
   "source": [
    "sc.pp.highly_variable_genes(reference,\n",
    "                            n_top_genes=3000, \n",
    "                            batch_key='sample_id',\n",
    "                            flavor='seurat_v3')\n",
    "\n",
    "reference = reference[:,reference.var.highly_variable]"
   ]
  },
  {
   "cell_type": "markdown",
   "metadata": {},
   "source": [
    "### Load organoid data"
   ]
  },
  {
   "cell_type": "code",
   "execution_count": null,
   "metadata": {},
   "outputs": [],
   "source": [
    "organoid = read_samples(project_dir, sample_sheet, annot_dir)"
   ]
  },
  {
   "cell_type": "code",
   "execution_count": null,
   "metadata": {},
   "outputs": [],
   "source": [
    "print(np.max(organoid.X))\n",
    "print(np.min(organoid.X))\n",
    "print(type(organoid.X[0,0]))"
   ]
  },
  {
   "cell_type": "code",
   "execution_count": null,
   "metadata": {},
   "outputs": [],
   "source": [
    "organoid.X = organoid.X.astype(np.float32)\n",
    "print(type(organoid.X[0,0]))"
   ]
  },
  {
   "cell_type": "code",
   "execution_count": null,
   "metadata": {},
   "outputs": [],
   "source": [
    "organoid.obs.level_1.value_counts()"
   ]
  },
  {
   "cell_type": "code",
   "execution_count": null,
   "metadata": {},
   "outputs": [],
   "source": [
    "organoid.obs.level_2.value_counts()"
   ]
  },
  {
   "cell_type": "code",
   "execution_count": null,
   "metadata": {},
   "outputs": [],
   "source": [
    "organoid.obs['orig_cell_types'] = organoid.obs['level_2'].copy()\n",
    "organoid.obs['level_2'] = 'na'\n",
    "organoid.obs['level_3'] = 'na'"
   ]
  },
  {
   "cell_type": "code",
   "execution_count": null,
   "metadata": {},
   "outputs": [],
   "source": [
    "organoid.obs"
   ]
  },
  {
   "cell_type": "code",
   "execution_count": null,
   "metadata": {},
   "outputs": [],
   "source": [
    "# note that the 'Miller' cells were incorrectly annotated; these cells are derived from FSC cells rather than ASC cells\n",
    "# we correct the annotation in the post-hoc analysis notebook"
   ]
  },
  {
   "cell_type": "code",
   "execution_count": null,
   "metadata": {},
   "outputs": [],
   "source": [
    "organoid[organoid.obs.publication == 'Miller_DevCell_2020'].obs.sample_id.value_counts()"
   ]
  },
  {
   "cell_type": "code",
   "execution_count": null,
   "metadata": {},
   "outputs": [],
   "source": [
    "organoid[organoid.obs.publication == 'Miller_DevCell_2020'].obs.derive"
   ]
  },
  {
   "cell_type": "code",
   "execution_count": null,
   "metadata": {},
   "outputs": [],
   "source": [
    "# select only those highly variable genes that occur in both the reference and organoid data\n",
    "try:\n",
    "    organoid = organoid[:,reference.var.index]\n",
    "except:\n",
    "    a = set(reference.var.index)\n",
    "    b = set(organoid.var.index)\n",
    "    overlap = a.intersection(b)\n",
    "    reference = reference[:,pd.Index(overlap)]\n",
    "    organoid = organoid[:,pd.Index(overlap)]"
   ]
  },
  {
   "cell_type": "code",
   "execution_count": null,
   "metadata": {},
   "outputs": [],
   "source": [
    "print(reference.shape)\n",
    "print(organoid.shape)"
   ]
  },
  {
   "cell_type": "markdown",
   "metadata": {},
   "source": [
    "## Integrate reference data\n",
    "\n",
    "If you've already integrated your reference data, skip ahead to the next section!"
   ]
  },
  {
   "cell_type": "code",
   "execution_count": null,
   "metadata": {},
   "outputs": [],
   "source": [
    "scpoli_model = train_scpoli(reference)"
   ]
  },
  {
   "cell_type": "code",
   "execution_count": null,
   "metadata": {},
   "outputs": [],
   "source": [
    "reference.obsm['X_scPoli'] = scpoli_model.get_latent(\n",
    "    reference,\n",
    "    mean=True,\n",
    ")"
   ]
  },
  {
   "cell_type": "code",
   "execution_count": null,
   "metadata": {},
   "outputs": [],
   "source": [
    "# visualize the latent representation of reference cells computed by scPoli\n",
    "sc.pp.neighbors(reference, use_rep='X_scPoli')\n",
    "sc.tl.umap(reference)\n",
    "sc.pl.umap(\n",
    "    reference, \n",
    "    color=['maturity', level],\n",
    "    show=True,\n",
    "    frameon=False,\n",
    "    save=f'_scPoli_latent_v{VERSION}.png',\n",
    ")"
   ]
  },
  {
   "cell_type": "code",
   "execution_count": null,
   "metadata": {},
   "outputs": [],
   "source": [
    "# reference.obs[level] = ''\n",
    "# reference.obs[level][:fetal.shape[0]] = fetal.obs['new_celltype'].copy()\n",
    "# reference.obs[level][fetal.shape[0]:] = mature.obs['predicted_labels'].copy()"
   ]
  },
  {
   "cell_type": "code",
   "execution_count": null,
   "metadata": {},
   "outputs": [],
   "source": [
    "sc.pl.umap(\n",
    "    reference, \n",
    "    color=[level],\n",
    "    show=True,\n",
    "    frameon=False,\n",
    ")"
   ]
  },
  {
   "cell_type": "code",
   "execution_count": null,
   "metadata": {},
   "outputs": [],
   "source": [
    "reference"
   ]
  },
  {
   "cell_type": "code",
   "execution_count": null,
   "metadata": {},
   "outputs": [],
   "source": [
    "reference.obs.drop(columns=['conditions_combined'], inplace=True)\n",
    "reference.write(os.path.join(project_dir, f'reference/integrated_reference_v{VERSION}.h5ad'))"
   ]
  },
  {
   "cell_type": "code",
   "execution_count": null,
   "metadata": {},
   "outputs": [],
   "source": [
    "scpoli_model.save(model_path)"
   ]
  },
  {
   "cell_type": "markdown",
   "metadata": {},
   "source": [
    "## Load model and integrated reference data"
   ]
  },
  {
   "cell_type": "code",
   "execution_count": null,
   "metadata": {},
   "outputs": [],
   "source": [
    "# load a model if you've trained one before\n",
    "reference = sc.read_h5ad(os.path.join(project_dir, f\"reference/integrated_reference_v{VERSION}.h5ad\"))\n",
    "scpoli_model = scarches.models.scpoli.scPoli.load(f\"{out_folder}/model_v{VERSION}\", reference)"
   ]
  },
  {
   "cell_type": "code",
   "execution_count": null,
   "metadata": {},
   "outputs": [],
   "source": [
    "sc.pl.umap(\n",
    "    reference, \n",
    "    color=['maturity', level],\n",
    "    show=True,\n",
    "    frameon=False,\n",
    ")"
   ]
  },
  {
   "cell_type": "markdown",
   "metadata": {},
   "source": [
    "## Map organoid to reference cells"
   ]
  },
  {
   "cell_type": "code",
   "execution_count": null,
   "metadata": {
    "scrolled": true
   },
   "outputs": [],
   "source": [
    "scpoli_query = map_query(organoid, scpoli_model)\n",
    "\n",
    "# get latent representation of reference data\n",
    "scpoli_query.model.eval()\n",
    "data_latent_source = scpoli_query.get_latent(\n",
    "    reference,\n",
    "    mean=True,\n",
    ")\n",
    "\n",
    "# get latent representation of query data\n",
    "data_latent_target = scpoli_query.get_latent(\n",
    "    organoid,\n",
    "    mean=True,\n",
    ")\n",
    "\n",
    "adata_latent_source = AnnData(data_latent_source)\n",
    "adata_latent_source.obs = reference.obs.copy()\n",
    "\n",
    "adata_latent_target = AnnData(data_latent_target)\n",
    "adata_latent_target.obs = organoid.obs.copy()"
   ]
  },
  {
   "cell_type": "code",
   "execution_count": null,
   "metadata": {},
   "outputs": [],
   "source": [
    "# get label annotations\n",
    "results_dict = scpoli_query.classify(organoid, scale_uncertainties=True)\n",
    "adata_latent_target.obs['cell_type_pred'] = results_dict[level]['preds'].tolist()\n",
    "adata_latent_target.obs['cell_type_uncert'] = results_dict[level]['uncert'].tolist()\n",
    "adata_latent_target.obs['classifier_outcome'] = (\n",
    "    adata_latent_target.obs['cell_type_pred'] == adata_latent_target.obs[level]\n",
    ")"
   ]
  },
  {
   "cell_type": "code",
   "execution_count": null,
   "metadata": {},
   "outputs": [],
   "source": [
    "print(adata_latent_source.X.shape)\n",
    "print(adata_latent_target.X.shape)"
   ]
  },
  {
   "cell_type": "code",
   "execution_count": null,
   "metadata": {},
   "outputs": [],
   "source": [
    "adata_latent = umap_transform(adata_latent_source, adata_latent_target, cell_type_col='simplified_celltype')"
   ]
  },
  {
   "cell_type": "code",
   "execution_count": null,
   "metadata": {},
   "outputs": [],
   "source": [
    "# adata_latent_reference = AnnData(reference.obsm['X_scPoli'])\n",
    "# adata_latent_reference.obs = reference.obs.copy()\n",
    "# adata_latent = umap_transform(adata_latent_reference, adata_latent_target, cell_type_col=cell_type_col)"
   ]
  },
  {
   "cell_type": "code",
   "execution_count": null,
   "metadata": {},
   "outputs": [],
   "source": [
    "adata_latent"
   ]
  },
  {
   "cell_type": "markdown",
   "metadata": {},
   "source": [
    "## Save latent representation"
   ]
  },
  {
   "cell_type": "code",
   "execution_count": null,
   "metadata": {},
   "outputs": [],
   "source": [
    "adata_latent.write(os.path.join(WD, f\"data/q2r_fetal_adata_latent_v{VERSION}.h5ad\"))"
   ]
  },
  {
   "cell_type": "markdown",
   "metadata": {},
   "source": [
    "## Plots"
   ]
  },
  {
   "cell_type": "code",
   "execution_count": null,
   "metadata": {},
   "outputs": [],
   "source": [
    "sc.pl.umap(\n",
    "    adata_latent,\n",
    "    color='cell_type',\n",
    "    show=True,\n",
    "    frameon=False,\n",
    "    save=f'_new_celltype_v{VERSION}.png',\n",
    ")"
   ]
  },
  {
   "cell_type": "code",
   "execution_count": null,
   "metadata": {},
   "outputs": [],
   "source": [
    "sc.pl.umap(\n",
    "    adata_latent,\n",
    "    color='cell_type_ref',\n",
    "    show=True,\n",
    "    frameon=False,\n",
    "    save=f'_cell_type_ref_v{VERSION}.png',\n",
    ")"
   ]
  },
  {
   "cell_type": "code",
   "execution_count": null,
   "metadata": {},
   "outputs": [],
   "source": [
    "sc.pl.umap(\n",
    "    adata_latent,\n",
    "    color='query',\n",
    "    show=True,\n",
    "    frameon=False,\n",
    "    save=f'_query_v{VERSION}.png',\n",
    ")"
   ]
  },
  {
   "cell_type": "code",
   "execution_count": null,
   "metadata": {},
   "outputs": [],
   "source": [
    "sc.pl.umap(\n",
    "    adata_latent,\n",
    "    color='cell_type_pred',\n",
    "    show=True,\n",
    "    frameon=False,\n",
    "    save=f'_cell_type_pred_v{VERSION}.png',\n",
    ")"
   ]
  },
  {
   "cell_type": "code",
   "execution_count": null,
   "metadata": {},
   "outputs": [],
   "source": [
    "sc.pl.umap(\n",
    "    adata_latent,\n",
    "    color='derive',\n",
    "    show=True,\n",
    "    frameon=False,\n",
    "    save=f'_derive_v{VERSION}.png',\n",
    ")"
   ]
  },
  {
   "cell_type": "code",
   "execution_count": null,
   "metadata": {},
   "outputs": [],
   "source": [
    "sc.pl.umap(\n",
    "    adata_latent,\n",
    "    color='cell_type_uncert',\n",
    "    show=True,\n",
    "    frameon=False,\n",
    "    cmap='magma',\n",
    "    # vmax=1,\n",
    "    save=f'_uncert_v{VERSION}.png',\n",
    ")"
   ]
  },
  {
   "cell_type": "code",
   "execution_count": null,
   "metadata": {},
   "outputs": [],
   "source": [
    "sc.pl.umap(\n",
    "    adata_latent,\n",
    "    color='maturity',\n",
    "    show=True,\n",
    "    frameon=False,\n",
    "    save=f'_maturity_v{VERSION}.png',\n",
    ")"
   ]
  },
  {
   "cell_type": "code",
   "execution_count": null,
   "metadata": {},
   "outputs": [],
   "source": []
  }
 ],
 "metadata": {
  "kernelspec": {
   "display_name": "heoa_venv",
   "language": "python",
   "name": "heoa_venv"
  },
  "language_info": {
   "codemirror_mode": {
    "name": "ipython",
    "version": 3
   },
   "file_extension": ".py",
   "mimetype": "text/x-python",
   "name": "python",
   "nbconvert_exporter": "python",
   "pygments_lexer": "ipython3",
   "version": "3.9.16"
  }
 },
 "nbformat": 4,
 "nbformat_minor": 2
}
