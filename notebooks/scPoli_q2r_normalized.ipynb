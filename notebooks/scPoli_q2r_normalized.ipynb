{
 "cells": [
  {
   "cell_type": "code",
   "execution_count": 1,
   "metadata": {},
   "outputs": [
    {
     "name": "stderr",
     "output_type": "stream",
     "text": [
      "WARNING:root:In order to use the mouse gastrulation seqFISH datsets, please install squidpy (see https://github.com/scverse/squidpy).\n",
      "INFO:pytorch_lightning.utilities.seed:Global seed set to 0\n",
      "/dss/dsshome1/06/di93vel/.conda/envs/heoa_venv/lib/python3.9/site-packages/pytorch_lightning/utilities/warnings.py:53: LightningDeprecationWarning: pytorch_lightning.utilities.warnings.rank_zero_deprecation has been deprecated in v1.6 and will be removed in v1.8. Use the equivalent function from the pytorch_lightning.utilities.rank_zero module instead.\n",
      "  new_rank_zero_deprecation(\n",
      "/dss/dsshome1/06/di93vel/.conda/envs/heoa_venv/lib/python3.9/site-packages/pytorch_lightning/utilities/warnings.py:58: LightningDeprecationWarning: The `pytorch_lightning.loggers.base.rank_zero_experiment` is deprecated in v1.7 and will be removed in v1.9. Please use `pytorch_lightning.loggers.logger.rank_zero_experiment` instead.\n",
      "  return new_rank_zero_deprecation(*args, **kwargs)\n",
      "WARNING:root:In order to use sagenet models, please install pytorch geometric (see https://pytorch-geometric.readthedocs.io) and \n",
      " captum (see https://github.com/pytorch/captum).\n",
      "WARNING:root:mvTCR is not installed. To use mvTCR models, please install it first using \"pip install mvtcr\"\n",
      "WARNING:root:multigrate is not installed. To use multigrate models, please install it first using \"pip install multigrate\".\n"
     ]
    }
   ],
   "source": [
    "import os\n",
    "import numpy as np\n",
    "import pandas as pd\n",
    "import scanpy as sc\n",
    "import anndata\n",
    "import scarches\n",
    "\n",
    "from anndata import AnnData\n",
    "from scarches.models.scpoli import scPoli\n",
    "\n",
    "import umap"
   ]
  },
  {
   "cell_type": "code",
   "execution_count": 2,
   "metadata": {},
   "outputs": [
    {
     "name": "stdout",
     "output_type": "stream",
     "text": [
      "False\n"
     ]
    }
   ],
   "source": [
    "import torch\n",
    "print(torch.cuda.is_available())"
   ]
  },
  {
   "cell_type": "markdown",
   "metadata": {},
   "source": [
    "## Specify working directory"
   ]
  },
  {
   "cell_type": "code",
   "execution_count": 3,
   "metadata": {},
   "outputs": [],
   "source": [
    "WD = \"/dss/dssfs02/lwp-dss-0001/pn36po/pn36po-dss-0001/di93vel/atlas_building\"\n",
    "VERSION = 17"
   ]
  },
  {
   "cell_type": "markdown",
   "metadata": {},
   "source": [
    "## Functions"
   ]
  },
  {
   "cell_type": "code",
   "execution_count": 4,
   "metadata": {},
   "outputs": [],
   "source": [
    "def read_samples(project_dir, sample_sheet, annot_dir):\n",
    "    adata_list=[]\n",
    "    for sample in sample_sheet.sample_id:\n",
    "        sample_file=f\"{project_dir}/h5ad_pyraw/cp_h5ad/{sample}_pyraw.h5ad\"\n",
    "        adata = sc.read_h5ad(sample_file)\n",
    "        adata.obs['sample_id'] = sample\n",
    "        origin = sample_sheet[sample_sheet['sample_id'] == sample]['derive'].values[0]\n",
    "        adata.obs['derive'] = origin\n",
    "        adata.var = adata.var.drop(adata.var.columns, axis=1)\n",
    "        meta_file = f\"{annot_dir}/{sample}_annotation.txt\"\n",
    "        if os.path.exists(meta_file) and os.path.getsize(meta_file)>1:\n",
    "            meta_data = pd.read_csv(meta_file, sep=\"\\t\", index_col=0)\n",
    "            adata.obs = pd.merge(adata.obs, meta_data, left_index=True, right_index=True)\n",
    "        else:\n",
    "            adata.obs['level_1'] = 'epithelial'\n",
    "            adata.obs['level_2'] = 'na'\n",
    "\n",
    "        adata_list.append(adata)\n",
    "    adata_concat = anndata.concat(adata_list, join='outer', fill_value=0)\n",
    "    adata_concat.obs['publication'] = ['_'.join(i.split('_')[:3]) for i in adata_concat.obs.sample_id.tolist()]\n",
    "\n",
    "    adata_concat.obs.index.name = \"cells\"\n",
    "\n",
    "    return adata_concat\n",
    "    \n",
    "def clear_genes(project_dir, adata):\n",
    "    # clear_genes = pd.read_csv(\"/home/xuq44/refgenomes/hg38/hg_genes_clear_nocc.txt\", header=None)[0].tolist()\n",
    "    clear_genes = pd.read_csv(os.path.join(project_dir, \"hg_genes_clear.txt\"), header=None)[0].tolist()\n",
    "    sub_clear_genes = [i for i in clear_genes if i in adata.var.index.tolist()]\n",
    "    adata = adata[:, sub_clear_genes]\n",
    "    \n",
    "    return adata\n",
    "\n",
    "def pre_inti0(adata):\n",
    "    adata.layers['counts']=adata.X\n",
    "    sc.pp.normalize_total(adata, target_sum=1e4)\n",
    "    sc.pp.log1p(adata)\n",
    "    adata.raw = adata\n",
    "\n",
    "    return adata\n",
    "\n",
    "def get_kwargs():\n",
    "    early_stopping_kwargs = {\n",
    "        \"early_stopping_metric\": \"val_prototype_loss\",\n",
    "        \"mode\": \"min\",\n",
    "        \"threshold\": 0,\n",
    "        \"patience\": 20,\n",
    "        \"reduce_lr\": True,\n",
    "        \"lr_patience\": 13,\n",
    "        \"lr_factor\": 0.1,\n",
    "    }\n",
    "    return early_stopping_kwargs\n",
    "\n",
    "def train_scpoli(adata):\n",
    "    early_stopping_kwargs = get_kwargs()\n",
    "\n",
    "    scpoli_model = scPoli(\n",
    "        adata=adata,\n",
    "        unknown_ct_names=['na'],\n",
    "        condition_keys='sample_id',\n",
    "        cell_type_keys=['level_2'],\n",
    "        embedding_dims=10,  # default\n",
    "        latent_dim=10,  # default\n",
    "        hidden_layer_sizes=[512, 512],\n",
    "        recon_loss='mse',\n",
    "    )\n",
    "\n",
    "    scpoli_model.train(\n",
    "        n_epochs=50,\n",
    "        pretraining_epochs=4,\n",
    "        early_stopping_kwargs=early_stopping_kwargs,\n",
    "        eta=10,\n",
    "        alpha_epoch_anneal=100,\n",
    "    )\n",
    "\n",
    "    return scpoli_model\n",
    "\n",
    "def map_query(adata, model):\n",
    "    early_stopping_kwargs = get_kwargs()\n",
    "\n",
    "    scpoli_query = scPoli.load_query_data(\n",
    "        adata=adata,\n",
    "        reference_model=model,\n",
    "        labeled_indices=[],\n",
    "    )\n",
    "\n",
    "    scpoli_query.train(\n",
    "        n_epochs=100,\n",
    "        pretraining_epochs=4,\n",
    "        early_stopping_kwargs=early_stopping_kwargs,\n",
    "        eta=10,\n",
    "        alpha_epoch_anneal=100,\n",
    "    )\n",
    "\n",
    "    return scpoli_query\n",
    "\n",
    "def umap_transform(adata_ref, adata_que, cell_type_col):\n",
    "    model = umap.UMAP(n_neighbors=5, random_state=42, min_dist=0.5).fit(adata_ref.X)\n",
    "    adata_ref.obsm['X_umap'] = model.transform(adata_ref.X)\n",
    "    adata_que.obsm['X_umap'] = model.transform(adata_que.X)\n",
    "    \n",
    "    adata_ref.obs['query'] = 0\n",
    "    adata_que.obs['query'] = 1\n",
    "    \n",
    "    adata_ref.obs['cell_type_pred'] = np.nan\n",
    "    \n",
    "    # harmonized annotation: reference labels transferred to query cells\n",
    "    adata_ref.obs['cell_type'] = adata_ref.obs['level_2'].copy()\n",
    "    adata_que.obs['cell_type'] = adata_que.obs['cell_type_pred'].copy()\n",
    "    \n",
    "    # original reference cell annotation\n",
    "    adata_ref.obs['cell_type_ref'] = adata_ref.obs['level_2'].copy()\n",
    "    adata_que.obs['cell_type_ref'] = np.nan\n",
    "    \n",
    "    # original query cell annotation\n",
    "    # adata_ref.obs['cell_type_que'] = np.nan\n",
    "    # adata_que.obs['cell_type_que'] = adata_que.obs['level_2'].copy()\n",
    "    \n",
    "    adata_all = anndata.concat([adata_ref, adata_que])\n",
    "\n",
    "    return adata_all\n"
   ]
  },
  {
   "cell_type": "markdown",
   "metadata": {},
   "source": [
    "## Load samples"
   ]
  },
  {
   "cell_type": "code",
   "execution_count": 5,
   "metadata": {},
   "outputs": [],
   "source": [
    "project_dir = os.path.join(WD, 'data')\n",
    "annot_dir = os.path.join(project_dir, 'sample_annot6')\n",
    "sample_sheet = pd.read_csv(os.path.join(project_dir, 'all_samples_sheets.txt'), sep='\\t')\n",
    "sample_sheet = sample_sheet[sample_sheet.tissue=='lung']"
   ]
  },
  {
   "cell_type": "markdown",
   "metadata": {},
   "source": [
    "### Load reference data"
   ]
  },
  {
   "cell_type": "code",
   "execution_count": 6,
   "metadata": {},
   "outputs": [
    {
     "name": "stderr",
     "output_type": "stream",
     "text": [
      "/tmp/ipykernel_4029712/3250957859.py:5: ImplicitModificationWarning: Trying to modify attribute `.obs` of view, initializing view as actual.\n",
      "  fetal.obs['level_1'] = 'epithelial'\n"
     ]
    }
   ],
   "source": [
    "# FETAL\n",
    "cell_type_col = 'new_celltype'\n",
    "fetal = sc.read(os.path.join(project_dir, 'reference/Assembled10DomainsEpithelial.h5ad'))\n",
    "fetal = clear_genes(project_dir, fetal)\n",
    "fetal.obs['level_1'] = 'epithelial'\n",
    "fetal.obs['level_2'] = fetal.obs[cell_type_col].copy()\n",
    "fetal.obs['sample_id'] = fetal.obs['donor'].copy()\n",
    "fetal.obs['maturity'] = 'fetal'"
   ]
  },
  {
   "cell_type": "code",
   "execution_count": 7,
   "metadata": {},
   "outputs": [
    {
     "name": "stdout",
     "output_type": "stream",
     "text": [
      "8.5433\n",
      "0.0\n"
     ]
    }
   ],
   "source": [
    "print(np.max(fetal.X))\n",
    "print(np.min(fetal.X))"
   ]
  },
  {
   "cell_type": "code",
   "execution_count": 8,
   "metadata": {},
   "outputs": [
    {
     "name": "stderr",
     "output_type": "stream",
     "text": [
      "/tmp/ipykernel_4029712/1559326118.py:5: ImplicitModificationWarning: Trying to modify attribute `.obs` of view, initializing view as actual.\n",
      "  mature.obs['level_1'] = 'epithelial'\n"
     ]
    }
   ],
   "source": [
    "# MATURE\n",
    "cell_type_col = 'predicted_labels'\n",
    "mature = sc.read(os.path.join(project_dir, 'reference/Barbry_Leroy_2020_epithelial_annot.h5ad'))\n",
    "mature = clear_genes(project_dir, mature)\n",
    "mature.obs['level_1'] = 'epithelial'\n",
    "mature.obs['level_2'] = mature.obs[cell_type_col].copy()\n",
    "mature.obs['sample_id'] = mature.obs['sample'].copy()\n",
    "mature.obs['maturity'] = 'mature'\n",
    "mature.uns['log1p'] = {'base': None}"
   ]
  },
  {
   "cell_type": "code",
   "execution_count": 9,
   "metadata": {},
   "outputs": [
    {
     "name": "stdout",
     "output_type": "stream",
     "text": [
      "9.126299\n",
      "0.0\n"
     ]
    }
   ],
   "source": [
    "print(np.max(mature.X))\n",
    "print(np.min(mature.X))"
   ]
  },
  {
   "cell_type": "code",
   "execution_count": 10,
   "metadata": {},
   "outputs": [
    {
     "name": "stderr",
     "output_type": "stream",
     "text": [
      "/dss/dsshome1/06/di93vel/.conda/envs/heoa_venv/lib/python3.9/site-packages/anndata/_core/merge.py:1111: UserWarning: Only some AnnData objects have `.raw` attribute, not concatenating `.raw` attributes.\n",
      "  warn(\n"
     ]
    }
   ],
   "source": [
    "reference = anndata.concat([fetal, mature])"
   ]
  },
  {
   "cell_type": "code",
   "execution_count": 11,
   "metadata": {},
   "outputs": [],
   "source": [
    "reference.obs['derive'] = np.nan\n",
    "sc.pp.highly_variable_genes(reference, n_top_genes=3000, batch_key='sample_id')\n",
    "reference = reference[:,reference.var.highly_variable]"
   ]
  },
  {
   "cell_type": "markdown",
   "metadata": {},
   "source": [
    "### Load organoid data"
   ]
  },
  {
   "cell_type": "code",
   "execution_count": 12,
   "metadata": {},
   "outputs": [
    {
     "name": "stderr",
     "output_type": "stream",
     "text": [
      "/dss/dsshome1/06/di93vel/.conda/envs/heoa_venv/lib/python3.9/site-packages/anndata/_core/merge.py:1111: UserWarning: Only some AnnData objects have `.raw` attribute, not concatenating `.raw` attributes.\n",
      "  warn(\n",
      "/dss/dsshome1/06/di93vel/.conda/envs/heoa_venv/lib/python3.9/site-packages/anndata/_core/anndata.py:1830: UserWarning: Observation names are not unique. To make them unique, call `.obs_names_make_unique`.\n",
      "  utils.warn_names_duplicates(\"obs\")\n"
     ]
    }
   ],
   "source": [
    "organoid = read_samples(project_dir, sample_sheet, annot_dir)"
   ]
  },
  {
   "cell_type": "code",
   "execution_count": 13,
   "metadata": {},
   "outputs": [
    {
     "name": "stdout",
     "output_type": "stream",
     "text": [
      "25001.0\n",
      "0.0\n"
     ]
    }
   ],
   "source": [
    "print(np.max(organoid.X))\n",
    "print(np.min(organoid.X))"
   ]
  },
  {
   "cell_type": "code",
   "execution_count": 14,
   "metadata": {},
   "outputs": [
    {
     "data": {
      "text/plain": [
       "epithelial    225487\n",
       "Name: level_1, dtype: int64"
      ]
     },
     "execution_count": 14,
     "metadata": {},
     "output_type": "execute_result"
    }
   ],
   "source": [
    "organoid.obs.level_1.value_counts()"
   ]
  },
  {
   "cell_type": "code",
   "execution_count": 15,
   "metadata": {},
   "outputs": [
    {
     "data": {
      "text/plain": [
       "alveolar type 2 (AT2) cells    61221\n",
       "basal cells                    32813\n",
       "club cells                     30613\n",
       "goblet cells                   27694\n",
       "stem cells                     19224\n",
       "na                             16034\n",
       "alveolar type 1 (AT1) cells    15337\n",
       "neuroendocrine cells           14272\n",
       "airway secretory cells          5626\n",
       "ciliated cells                  2653\n",
       "Name: level_2, dtype: int64"
      ]
     },
     "execution_count": 15,
     "metadata": {},
     "output_type": "execute_result"
    }
   ],
   "source": [
    "organoid.obs.level_2.value_counts()"
   ]
  },
  {
   "cell_type": "code",
   "execution_count": 16,
   "metadata": {},
   "outputs": [],
   "source": [
    "organoid.obs['orig_cell_types'] = organoid.obs['level_2'].copy()\n",
    "organoid.obs['level_2'] = 'na'"
   ]
  },
  {
   "cell_type": "code",
   "execution_count": 17,
   "metadata": {},
   "outputs": [
    {
     "data": {
      "text/html": [
       "<div>\n",
       "<style scoped>\n",
       "    .dataframe tbody tr th:only-of-type {\n",
       "        vertical-align: middle;\n",
       "    }\n",
       "\n",
       "    .dataframe tbody tr th {\n",
       "        vertical-align: top;\n",
       "    }\n",
       "\n",
       "    .dataframe thead th {\n",
       "        text-align: right;\n",
       "    }\n",
       "</style>\n",
       "<table border=\"1\" class=\"dataframe\">\n",
       "  <thead>\n",
       "    <tr style=\"text-align: right;\">\n",
       "      <th></th>\n",
       "      <th>initial_size_spliced</th>\n",
       "      <th>initial_size_unspliced</th>\n",
       "      <th>initial_size</th>\n",
       "      <th>n_genes_by_counts</th>\n",
       "      <th>total_counts</th>\n",
       "      <th>total_counts_mt</th>\n",
       "      <th>pct_counts_mt</th>\n",
       "      <th>total_counts_ribo</th>\n",
       "      <th>pct_counts_ribo</th>\n",
       "      <th>total_counts_hb</th>\n",
       "      <th>...</th>\n",
       "      <th>n_genes</th>\n",
       "      <th>sample_id</th>\n",
       "      <th>derive</th>\n",
       "      <th>level_1</th>\n",
       "      <th>level_2</th>\n",
       "      <th>level_3</th>\n",
       "      <th>Cell_type</th>\n",
       "      <th>n_counts</th>\n",
       "      <th>publication</th>\n",
       "      <th>orig_cell_types</th>\n",
       "    </tr>\n",
       "    <tr>\n",
       "      <th>cells</th>\n",
       "      <th></th>\n",
       "      <th></th>\n",
       "      <th></th>\n",
       "      <th></th>\n",
       "      <th></th>\n",
       "      <th></th>\n",
       "      <th></th>\n",
       "      <th></th>\n",
       "      <th></th>\n",
       "      <th></th>\n",
       "      <th></th>\n",
       "      <th></th>\n",
       "      <th></th>\n",
       "      <th></th>\n",
       "      <th></th>\n",
       "      <th></th>\n",
       "      <th></th>\n",
       "      <th></th>\n",
       "      <th></th>\n",
       "      <th></th>\n",
       "      <th></th>\n",
       "    </tr>\n",
       "  </thead>\n",
       "  <tbody>\n",
       "    <tr>\n",
       "      <th>AAACCCACAAAGCTAA</th>\n",
       "      <td>31397.0</td>\n",
       "      <td>14368.0</td>\n",
       "      <td>31397.0</td>\n",
       "      <td>6808</td>\n",
       "      <td>39508.0</td>\n",
       "      <td>4868.0</td>\n",
       "      <td>12.321555</td>\n",
       "      <td>7983.0</td>\n",
       "      <td>20.206034</td>\n",
       "      <td>1.0</td>\n",
       "      <td>...</td>\n",
       "      <td>6808.0</td>\n",
       "      <td>Chan_NatCommun_2022_bronchial_organoids</td>\n",
       "      <td>ASC</td>\n",
       "      <td>epithelial</td>\n",
       "      <td>na</td>\n",
       "      <td>basal cells</td>\n",
       "      <td>NaN</td>\n",
       "      <td>NaN</td>\n",
       "      <td>Chan_NatCommun_2022</td>\n",
       "      <td>basal cells</td>\n",
       "    </tr>\n",
       "    <tr>\n",
       "      <th>AAACCCACACTGTGTA</th>\n",
       "      <td>24573.0</td>\n",
       "      <td>8025.0</td>\n",
       "      <td>24573.0</td>\n",
       "      <td>4675</td>\n",
       "      <td>31483.0</td>\n",
       "      <td>3729.0</td>\n",
       "      <td>11.844487</td>\n",
       "      <td>7484.0</td>\n",
       "      <td>23.771559</td>\n",
       "      <td>0.0</td>\n",
       "      <td>...</td>\n",
       "      <td>4675.0</td>\n",
       "      <td>Chan_NatCommun_2022_bronchial_organoids</td>\n",
       "      <td>ASC</td>\n",
       "      <td>epithelial</td>\n",
       "      <td>na</td>\n",
       "      <td>club cells</td>\n",
       "      <td>NaN</td>\n",
       "      <td>NaN</td>\n",
       "      <td>Chan_NatCommun_2022</td>\n",
       "      <td>club cells</td>\n",
       "    </tr>\n",
       "    <tr>\n",
       "      <th>AAACCCATCCGCAGTG</th>\n",
       "      <td>21147.0</td>\n",
       "      <td>6246.0</td>\n",
       "      <td>21147.0</td>\n",
       "      <td>4822</td>\n",
       "      <td>26328.0</td>\n",
       "      <td>2810.0</td>\n",
       "      <td>10.673048</td>\n",
       "      <td>5713.0</td>\n",
       "      <td>21.699331</td>\n",
       "      <td>2.0</td>\n",
       "      <td>...</td>\n",
       "      <td>4822.0</td>\n",
       "      <td>Chan_NatCommun_2022_bronchial_organoids</td>\n",
       "      <td>ASC</td>\n",
       "      <td>epithelial</td>\n",
       "      <td>na</td>\n",
       "      <td>club cells</td>\n",
       "      <td>NaN</td>\n",
       "      <td>NaN</td>\n",
       "      <td>Chan_NatCommun_2022</td>\n",
       "      <td>club cells</td>\n",
       "    </tr>\n",
       "    <tr>\n",
       "      <th>AAACCCATCTAGTGTG</th>\n",
       "      <td>8687.0</td>\n",
       "      <td>3785.0</td>\n",
       "      <td>8687.0</td>\n",
       "      <td>2726</td>\n",
       "      <td>11182.0</td>\n",
       "      <td>632.0</td>\n",
       "      <td>5.651941</td>\n",
       "      <td>3580.0</td>\n",
       "      <td>32.015739</td>\n",
       "      <td>0.0</td>\n",
       "      <td>...</td>\n",
       "      <td>2726.0</td>\n",
       "      <td>Chan_NatCommun_2022_bronchial_organoids</td>\n",
       "      <td>ASC</td>\n",
       "      <td>epithelial</td>\n",
       "      <td>na</td>\n",
       "      <td>basal cells</td>\n",
       "      <td>NaN</td>\n",
       "      <td>NaN</td>\n",
       "      <td>Chan_NatCommun_2022</td>\n",
       "      <td>basal cells</td>\n",
       "    </tr>\n",
       "    <tr>\n",
       "      <th>AAACGAACAACTCCCT</th>\n",
       "      <td>11375.0</td>\n",
       "      <td>5798.0</td>\n",
       "      <td>11375.0</td>\n",
       "      <td>3956</td>\n",
       "      <td>14544.0</td>\n",
       "      <td>1113.0</td>\n",
       "      <td>7.652640</td>\n",
       "      <td>4326.0</td>\n",
       "      <td>29.744226</td>\n",
       "      <td>0.0</td>\n",
       "      <td>...</td>\n",
       "      <td>3956.0</td>\n",
       "      <td>Chan_NatCommun_2022_bronchial_organoids</td>\n",
       "      <td>ASC</td>\n",
       "      <td>epithelial</td>\n",
       "      <td>na</td>\n",
       "      <td>basal cells</td>\n",
       "      <td>NaN</td>\n",
       "      <td>NaN</td>\n",
       "      <td>Chan_NatCommun_2022</td>\n",
       "      <td>basal cells</td>\n",
       "    </tr>\n",
       "    <tr>\n",
       "      <th>...</th>\n",
       "      <td>...</td>\n",
       "      <td>...</td>\n",
       "      <td>...</td>\n",
       "      <td>...</td>\n",
       "      <td>...</td>\n",
       "      <td>...</td>\n",
       "      <td>...</td>\n",
       "      <td>...</td>\n",
       "      <td>...</td>\n",
       "      <td>...</td>\n",
       "      <td>...</td>\n",
       "      <td>...</td>\n",
       "      <td>...</td>\n",
       "      <td>...</td>\n",
       "      <td>...</td>\n",
       "      <td>...</td>\n",
       "      <td>...</td>\n",
       "      <td>...</td>\n",
       "      <td>...</td>\n",
       "      <td>...</td>\n",
       "      <td>...</td>\n",
       "    </tr>\n",
       "    <tr>\n",
       "      <th>TTTGATCAGTCTAGCT</th>\n",
       "      <td>9504.0</td>\n",
       "      <td>21130.0</td>\n",
       "      <td>9504.0</td>\n",
       "      <td>4459</td>\n",
       "      <td>11821.0</td>\n",
       "      <td>2224.0</td>\n",
       "      <td>18.813974</td>\n",
       "      <td>739.0</td>\n",
       "      <td>6.251586</td>\n",
       "      <td>0.0</td>\n",
       "      <td>...</td>\n",
       "      <td>4459.0</td>\n",
       "      <td>Hein_Dev_2022_Spheroids</td>\n",
       "      <td>IPS</td>\n",
       "      <td>epithelial</td>\n",
       "      <td>na</td>\n",
       "      <td>NaN</td>\n",
       "      <td>NaN</td>\n",
       "      <td>NaN</td>\n",
       "      <td>Hein_Dev_2022</td>\n",
       "      <td>na</td>\n",
       "    </tr>\n",
       "    <tr>\n",
       "      <th>TTTGATCCAACATACC</th>\n",
       "      <td>50587.0</td>\n",
       "      <td>52023.0</td>\n",
       "      <td>50587.0</td>\n",
       "      <td>8910</td>\n",
       "      <td>61103.0</td>\n",
       "      <td>1360.0</td>\n",
       "      <td>2.225750</td>\n",
       "      <td>11083.0</td>\n",
       "      <td>18.138226</td>\n",
       "      <td>5.0</td>\n",
       "      <td>...</td>\n",
       "      <td>8910.0</td>\n",
       "      <td>Hein_Dev_2022_Spheroids</td>\n",
       "      <td>IPS</td>\n",
       "      <td>epithelial</td>\n",
       "      <td>na</td>\n",
       "      <td>NaN</td>\n",
       "      <td>NaN</td>\n",
       "      <td>NaN</td>\n",
       "      <td>Hein_Dev_2022</td>\n",
       "      <td>na</td>\n",
       "    </tr>\n",
       "    <tr>\n",
       "      <th>TTTGGAGAGGAGAGGC</th>\n",
       "      <td>9358.0</td>\n",
       "      <td>9525.0</td>\n",
       "      <td>9358.0</td>\n",
       "      <td>3935</td>\n",
       "      <td>10915.0</td>\n",
       "      <td>2025.0</td>\n",
       "      <td>18.552450</td>\n",
       "      <td>1227.0</td>\n",
       "      <td>11.241410</td>\n",
       "      <td>1.0</td>\n",
       "      <td>...</td>\n",
       "      <td>3935.0</td>\n",
       "      <td>Hein_Dev_2022_Spheroids</td>\n",
       "      <td>IPS</td>\n",
       "      <td>epithelial</td>\n",
       "      <td>na</td>\n",
       "      <td>NaN</td>\n",
       "      <td>NaN</td>\n",
       "      <td>NaN</td>\n",
       "      <td>Hein_Dev_2022</td>\n",
       "      <td>na</td>\n",
       "    </tr>\n",
       "    <tr>\n",
       "      <th>TTTGGTTAGTGCAGCA</th>\n",
       "      <td>11309.0</td>\n",
       "      <td>14530.0</td>\n",
       "      <td>11309.0</td>\n",
       "      <td>4664</td>\n",
       "      <td>13709.0</td>\n",
       "      <td>1197.0</td>\n",
       "      <td>8.731490</td>\n",
       "      <td>2147.0</td>\n",
       "      <td>15.661244</td>\n",
       "      <td>1.0</td>\n",
       "      <td>...</td>\n",
       "      <td>4664.0</td>\n",
       "      <td>Hein_Dev_2022_Spheroids</td>\n",
       "      <td>IPS</td>\n",
       "      <td>epithelial</td>\n",
       "      <td>na</td>\n",
       "      <td>NaN</td>\n",
       "      <td>NaN</td>\n",
       "      <td>NaN</td>\n",
       "      <td>Hein_Dev_2022</td>\n",
       "      <td>na</td>\n",
       "    </tr>\n",
       "    <tr>\n",
       "      <th>TTTGTTGCACATGAAA</th>\n",
       "      <td>15775.0</td>\n",
       "      <td>29314.0</td>\n",
       "      <td>15775.0</td>\n",
       "      <td>6077</td>\n",
       "      <td>19719.0</td>\n",
       "      <td>1220.0</td>\n",
       "      <td>6.186926</td>\n",
       "      <td>1840.0</td>\n",
       "      <td>9.331102</td>\n",
       "      <td>2.0</td>\n",
       "      <td>...</td>\n",
       "      <td>6077.0</td>\n",
       "      <td>Hein_Dev_2022_Spheroids</td>\n",
       "      <td>IPS</td>\n",
       "      <td>epithelial</td>\n",
       "      <td>na</td>\n",
       "      <td>NaN</td>\n",
       "      <td>NaN</td>\n",
       "      <td>NaN</td>\n",
       "      <td>Hein_Dev_2022</td>\n",
       "      <td>na</td>\n",
       "    </tr>\n",
       "  </tbody>\n",
       "</table>\n",
       "<p>225487 rows × 21 columns</p>\n",
       "</div>"
      ],
      "text/plain": [
       "                  initial_size_spliced  initial_size_unspliced  initial_size  \\\n",
       "cells                                                                          \n",
       "AAACCCACAAAGCTAA               31397.0                 14368.0       31397.0   \n",
       "AAACCCACACTGTGTA               24573.0                  8025.0       24573.0   \n",
       "AAACCCATCCGCAGTG               21147.0                  6246.0       21147.0   \n",
       "AAACCCATCTAGTGTG                8687.0                  3785.0        8687.0   \n",
       "AAACGAACAACTCCCT               11375.0                  5798.0       11375.0   \n",
       "...                                ...                     ...           ...   \n",
       "TTTGATCAGTCTAGCT                9504.0                 21130.0        9504.0   \n",
       "TTTGATCCAACATACC               50587.0                 52023.0       50587.0   \n",
       "TTTGGAGAGGAGAGGC                9358.0                  9525.0        9358.0   \n",
       "TTTGGTTAGTGCAGCA               11309.0                 14530.0       11309.0   \n",
       "TTTGTTGCACATGAAA               15775.0                 29314.0       15775.0   \n",
       "\n",
       "                  n_genes_by_counts  total_counts  total_counts_mt  \\\n",
       "cells                                                                \n",
       "AAACCCACAAAGCTAA               6808       39508.0           4868.0   \n",
       "AAACCCACACTGTGTA               4675       31483.0           3729.0   \n",
       "AAACCCATCCGCAGTG               4822       26328.0           2810.0   \n",
       "AAACCCATCTAGTGTG               2726       11182.0            632.0   \n",
       "AAACGAACAACTCCCT               3956       14544.0           1113.0   \n",
       "...                             ...           ...              ...   \n",
       "TTTGATCAGTCTAGCT               4459       11821.0           2224.0   \n",
       "TTTGATCCAACATACC               8910       61103.0           1360.0   \n",
       "TTTGGAGAGGAGAGGC               3935       10915.0           2025.0   \n",
       "TTTGGTTAGTGCAGCA               4664       13709.0           1197.0   \n",
       "TTTGTTGCACATGAAA               6077       19719.0           1220.0   \n",
       "\n",
       "                  pct_counts_mt  total_counts_ribo  pct_counts_ribo  \\\n",
       "cells                                                                 \n",
       "AAACCCACAAAGCTAA      12.321555             7983.0        20.206034   \n",
       "AAACCCACACTGTGTA      11.844487             7484.0        23.771559   \n",
       "AAACCCATCCGCAGTG      10.673048             5713.0        21.699331   \n",
       "AAACCCATCTAGTGTG       5.651941             3580.0        32.015739   \n",
       "AAACGAACAACTCCCT       7.652640             4326.0        29.744226   \n",
       "...                         ...                ...              ...   \n",
       "TTTGATCAGTCTAGCT      18.813974              739.0         6.251586   \n",
       "TTTGATCCAACATACC       2.225750            11083.0        18.138226   \n",
       "TTTGGAGAGGAGAGGC      18.552450             1227.0        11.241410   \n",
       "TTTGGTTAGTGCAGCA       8.731490             2147.0        15.661244   \n",
       "TTTGTTGCACATGAAA       6.186926             1840.0         9.331102   \n",
       "\n",
       "                  total_counts_hb  ...  n_genes  \\\n",
       "cells                              ...            \n",
       "AAACCCACAAAGCTAA              1.0  ...   6808.0   \n",
       "AAACCCACACTGTGTA              0.0  ...   4675.0   \n",
       "AAACCCATCCGCAGTG              2.0  ...   4822.0   \n",
       "AAACCCATCTAGTGTG              0.0  ...   2726.0   \n",
       "AAACGAACAACTCCCT              0.0  ...   3956.0   \n",
       "...                           ...  ...      ...   \n",
       "TTTGATCAGTCTAGCT              0.0  ...   4459.0   \n",
       "TTTGATCCAACATACC              5.0  ...   8910.0   \n",
       "TTTGGAGAGGAGAGGC              1.0  ...   3935.0   \n",
       "TTTGGTTAGTGCAGCA              1.0  ...   4664.0   \n",
       "TTTGTTGCACATGAAA              2.0  ...   6077.0   \n",
       "\n",
       "                                                sample_id derive     level_1  \\\n",
       "cells                                                                          \n",
       "AAACCCACAAAGCTAA  Chan_NatCommun_2022_bronchial_organoids    ASC  epithelial   \n",
       "AAACCCACACTGTGTA  Chan_NatCommun_2022_bronchial_organoids    ASC  epithelial   \n",
       "AAACCCATCCGCAGTG  Chan_NatCommun_2022_bronchial_organoids    ASC  epithelial   \n",
       "AAACCCATCTAGTGTG  Chan_NatCommun_2022_bronchial_organoids    ASC  epithelial   \n",
       "AAACGAACAACTCCCT  Chan_NatCommun_2022_bronchial_organoids    ASC  epithelial   \n",
       "...                                                   ...    ...         ...   \n",
       "TTTGATCAGTCTAGCT                  Hein_Dev_2022_Spheroids    IPS  epithelial   \n",
       "TTTGATCCAACATACC                  Hein_Dev_2022_Spheroids    IPS  epithelial   \n",
       "TTTGGAGAGGAGAGGC                  Hein_Dev_2022_Spheroids    IPS  epithelial   \n",
       "TTTGGTTAGTGCAGCA                  Hein_Dev_2022_Spheroids    IPS  epithelial   \n",
       "TTTGTTGCACATGAAA                  Hein_Dev_2022_Spheroids    IPS  epithelial   \n",
       "\n",
       "                 level_2      level_3 Cell_type n_counts          publication  \\\n",
       "cells                                                                           \n",
       "AAACCCACAAAGCTAA      na  basal cells       NaN      NaN  Chan_NatCommun_2022   \n",
       "AAACCCACACTGTGTA      na   club cells       NaN      NaN  Chan_NatCommun_2022   \n",
       "AAACCCATCCGCAGTG      na   club cells       NaN      NaN  Chan_NatCommun_2022   \n",
       "AAACCCATCTAGTGTG      na  basal cells       NaN      NaN  Chan_NatCommun_2022   \n",
       "AAACGAACAACTCCCT      na  basal cells       NaN      NaN  Chan_NatCommun_2022   \n",
       "...                  ...          ...       ...      ...                  ...   \n",
       "TTTGATCAGTCTAGCT      na          NaN       NaN      NaN        Hein_Dev_2022   \n",
       "TTTGATCCAACATACC      na          NaN       NaN      NaN        Hein_Dev_2022   \n",
       "TTTGGAGAGGAGAGGC      na          NaN       NaN      NaN        Hein_Dev_2022   \n",
       "TTTGGTTAGTGCAGCA      na          NaN       NaN      NaN        Hein_Dev_2022   \n",
       "TTTGTTGCACATGAAA      na          NaN       NaN      NaN        Hein_Dev_2022   \n",
       "\n",
       "                 orig_cell_types  \n",
       "cells                             \n",
       "AAACCCACAAAGCTAA     basal cells  \n",
       "AAACCCACACTGTGTA      club cells  \n",
       "AAACCCATCCGCAGTG      club cells  \n",
       "AAACCCATCTAGTGTG     basal cells  \n",
       "AAACGAACAACTCCCT     basal cells  \n",
       "...                          ...  \n",
       "TTTGATCAGTCTAGCT              na  \n",
       "TTTGATCCAACATACC              na  \n",
       "TTTGGAGAGGAGAGGC              na  \n",
       "TTTGGTTAGTGCAGCA              na  \n",
       "TTTGTTGCACATGAAA              na  \n",
       "\n",
       "[225487 rows x 21 columns]"
      ]
     },
     "execution_count": 17,
     "metadata": {},
     "output_type": "execute_result"
    }
   ],
   "source": [
    "organoid.obs"
   ]
  },
  {
   "cell_type": "code",
   "execution_count": 18,
   "metadata": {},
   "outputs": [],
   "source": [
    "organoid = pre_inti0(organoid)\n",
    "organoid.X = organoid.X.astype(np.float32)"
   ]
  },
  {
   "cell_type": "code",
   "execution_count": 19,
   "metadata": {},
   "outputs": [],
   "source": [
    "# select only those highly variable genes that occur in both the reference and organoid data\n",
    "try:\n",
    "    organoid = organoid[:,reference.var.index]\n",
    "except:\n",
    "    a = set(reference.var.index)\n",
    "    b = set(organoid.var.index)\n",
    "    overlap = a.intersection(b)\n",
    "    reference = reference[:,pd.Index(overlap)]\n",
    "    organoid = organoid[:,pd.Index(overlap)]"
   ]
  },
  {
   "cell_type": "code",
   "execution_count": 20,
   "metadata": {},
   "outputs": [],
   "source": [
    "out_folder = f\"{WD}/q2r_models/\"\n",
    "model_path = f\"{out_folder}/model_v{VERSION}\""
   ]
  },
  {
   "cell_type": "markdown",
   "metadata": {},
   "source": [
    "## Train Q2R model"
   ]
  },
  {
   "cell_type": "code",
   "execution_count": null,
   "metadata": {},
   "outputs": [
    {
     "name": "stderr",
     "output_type": "stream",
     "text": [
      "/dss/dsshome1/06/di93vel/.conda/envs/heoa_venv/lib/python3.9/site-packages/scarches/models/scpoli/scpoli_model.py:140: ImplicitModificationWarning: Trying to modify attribute `.obs` of view, initializing view as actual.\n",
      "  self.adata.obs['conditions_combined'] = adata.obs[condition_keys].apply(lambda x: '_'.join(x))\n"
     ]
    }
   ],
   "source": [
    "# DO NOT RUN IF YOU HAVE TRAINED A MODEL BEFORE!\n",
    "scpoli_model = train_scpoli(reference)"
   ]
  },
  {
   "cell_type": "code",
   "execution_count": null,
   "metadata": {},
   "outputs": [],
   "source": [
    "reference.obsm['X_scPoli'] = scpoli_model.get_latent(\n",
    "    reference,\n",
    "    mean=True,\n",
    ")"
   ]
  },
  {
   "cell_type": "code",
   "execution_count": null,
   "metadata": {},
   "outputs": [],
   "source": [
    "# visualize the latent representation of reference cells computed by scPoli\n",
    "sc.pp.neighbors(reference, use_rep='X_scPoli')\n",
    "sc.tl.umap(reference)\n",
    "sc.pl.umap(\n",
    "    reference, \n",
    "    color=['maturity', 'level_2'],\n",
    "    show=True,\n",
    "    frameon=False,\n",
    "    save=f'_scPoli_latent_v{VERSION}.png',\n",
    ")"
   ]
  },
  {
   "cell_type": "code",
   "execution_count": null,
   "metadata": {},
   "outputs": [],
   "source": [
    "scpoli_model.save(model_path)"
   ]
  },
  {
   "cell_type": "markdown",
   "metadata": {},
   "source": [
    "## Load Q2R model"
   ]
  },
  {
   "cell_type": "code",
   "execution_count": null,
   "metadata": {},
   "outputs": [],
   "source": [
    "# load a Q2R model if you've trained one before\n",
    "# scpoli_model = scarches.models.scpoli.scPoli.load(model_path, reference)"
   ]
  },
  {
   "cell_type": "markdown",
   "metadata": {},
   "source": [
    "## Map organoid to reference cells"
   ]
  },
  {
   "cell_type": "code",
   "execution_count": null,
   "metadata": {
    "scrolled": true
   },
   "outputs": [],
   "source": [
    "scpoli_query = map_query(organoid, scpoli_model)\n",
    "\n",
    "# get latent representation of reference data\n",
    "scpoli_query.model.eval()\n",
    "data_latent_source = scpoli_query.get_latent(\n",
    "    reference,\n",
    "    mean=True,\n",
    ")\n",
    "\n",
    "# get latent representation of query data\n",
    "data_latent_target = scpoli_query.get_latent(\n",
    "    organoid,\n",
    "    mean=True,\n",
    ")\n",
    "\n",
    "adata_latent_source = AnnData(data_latent_source)\n",
    "adata_latent_source.obs = reference.obs.copy()\n",
    "\n",
    "adata_latent_target = AnnData(data_latent_target)\n",
    "adata_latent_target.obs = organoid.obs.copy()"
   ]
  },
  {
   "cell_type": "code",
   "execution_count": null,
   "metadata": {},
   "outputs": [],
   "source": [
    "# get label annotations\n",
    "results_dict = scpoli_query.classify(organoid)\n",
    "adata_latent_target.obs['cell_type_pred'] = results_dict['level_2']['preds'].tolist()\n",
    "adata_latent_target.obs['cell_type_uncert'] = results_dict['level_2']['uncert'].tolist()\n",
    "adata_latent_target.obs['classifier_outcome'] = (\n",
    "    adata_latent_target.obs['cell_type_pred'] == adata_latent_target.obs['level_2']\n",
    ")"
   ]
  },
  {
   "cell_type": "code",
   "execution_count": null,
   "metadata": {},
   "outputs": [],
   "source": [
    "# the representation is chosen automatically: For .n_vars < 50, .X is used, otherwise ‘X_pca’ is used\n",
    "sc.pp.neighbors(adata_latent_target, n_neighbors=15)\n",
    "sc.tl.umap(adata_latent_target)\n",
    "\n",
    "adata_latent = umap_transform(adata_latent_source, adata_latent_target, cell_type_col=cell_type_col)"
   ]
  },
  {
   "cell_type": "markdown",
   "metadata": {},
   "source": [
    "## Save latent representation"
   ]
  },
  {
   "cell_type": "code",
   "execution_count": null,
   "metadata": {},
   "outputs": [],
   "source": [
    "adata_latent.write(os.path.join(WD, f\"data/q2r_fetal_adata_latent_v{VERSION}.h5ad\"))"
   ]
  },
  {
   "cell_type": "markdown",
   "metadata": {},
   "source": [
    "## Plots"
   ]
  },
  {
   "cell_type": "code",
   "execution_count": null,
   "metadata": {},
   "outputs": [],
   "source": [
    "sc.pl.umap(\n",
    "    adata_latent,\n",
    "    color='cell_type',\n",
    "    show=True,\n",
    "    frameon=False,\n",
    "    save=f'_new_celltype_v{VERSION}.png',\n",
    ")"
   ]
  },
  {
   "cell_type": "code",
   "execution_count": null,
   "metadata": {},
   "outputs": [],
   "source": [
    "sc.pl.umap(\n",
    "    adata_latent,\n",
    "    color='cell_type_ref',\n",
    "    show=True,\n",
    "    frameon=False,\n",
    ")"
   ]
  },
  {
   "cell_type": "code",
   "execution_count": null,
   "metadata": {},
   "outputs": [],
   "source": [
    "sc.pl.umap(\n",
    "    adata_latent,\n",
    "    color='query',\n",
    "    show=True,\n",
    "    frameon=False,\n",
    "    save=f'_query_v{VERSION}.png',\n",
    ")"
   ]
  },
  {
   "cell_type": "code",
   "execution_count": null,
   "metadata": {},
   "outputs": [],
   "source": [
    "sc.pl.umap(\n",
    "    adata_latent,\n",
    "    color='cell_type_pred',\n",
    "    show=True,\n",
    "    frameon=False,\n",
    "    save=f'_cell_type_pred_v{VERSION}.png',\n",
    ")"
   ]
  },
  {
   "cell_type": "code",
   "execution_count": null,
   "metadata": {},
   "outputs": [],
   "source": [
    "sc.pl.umap(\n",
    "    adata_latent,\n",
    "    color='derive',\n",
    "    show=True,\n",
    "    frameon=False,\n",
    "    save=f'_derive_v{VERSION}.png',\n",
    ")"
   ]
  },
  {
   "cell_type": "code",
   "execution_count": null,
   "metadata": {},
   "outputs": [],
   "source": []
  }
 ],
 "metadata": {
  "kernelspec": {
   "display_name": "heoa_venv",
   "language": "python",
   "name": "heoa_venv"
  },
  "language_info": {
   "codemirror_mode": {
    "name": "ipython",
    "version": 3
   },
   "file_extension": ".py",
   "mimetype": "text/x-python",
   "name": "python",
   "nbconvert_exporter": "python",
   "pygments_lexer": "ipython3",
   "version": "3.9.16"
  }
 },
 "nbformat": 4,
 "nbformat_minor": 2
}
